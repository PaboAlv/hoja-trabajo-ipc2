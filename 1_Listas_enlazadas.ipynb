{
  "nbformat": 4,
  "nbformat_minor": 0,
  "metadata": {
    "colab": {
      "provenance": []
    },
    "kernelspec": {
      "name": "python3",
      "display_name": "Python 3"
    },
    "language_info": {
      "name": "python"
    }
  },
  "cells": [
    {
      "cell_type": "markdown",
      "source": [
        "## **Lista Enlazada**\n",
        "**Definición de la clase Tratamiento_cultivo**"
      ],
      "metadata": {
        "id": "5el0xaVD7m27"
      }
    },
    {
      "cell_type": "code",
      "source": [
        "class receta:\n",
        "  def __init__(self, paciente, fecha_nac, doctor, colegiado, fecha_cita, \n",
        "               hora_cita, tipo_consulta, tratamiento):\n",
        "    self.paciente = paciente\n",
        "    self.fecha_nac = fecha_nac\n",
        "    self.doctor = doctor\n",
        "    self.colegiado = colegiado\n",
        "    self.fecha_cita = fecha_cita\n",
        "    self.hora_cita = hora_cita\n",
        "    self.tipo_consulta = tipo_consulta\n",
        "    self.tratamiento = tratamiento"
      ],
      "metadata": {
        "id": "xxEnJ5Sz76yg"
      },
      "execution_count": 26,
      "outputs": []
    },
    {
      "cell_type": "markdown",
      "source": [
        "**Definición de la clase Nodo**"
      ],
      "metadata": {
        "id": "HnvJIqYb-nt1"
      }
    },
    {
      "cell_type": "code",
      "source": [
        "class nodo:\n",
        "  def __init__(self, receta = None, siguiente = None):\n",
        "    self.receta = receta\n",
        "    self.siguiente = siguiente"
      ],
      "metadata": {
        "id": "FP-8W6dn-wPL"
      },
      "execution_count": 27,
      "outputs": []
    },
    {
      "cell_type": "markdown",
      "source": [
        "**Definición de la clase Lista Enlazada**"
      ],
      "metadata": {
        "id": "WnNeE_FVCEBI"
      }
    },
    {
      "cell_type": "code",
      "source": [
        "class lista_enlazada:\n",
        "  def __init__(self):\n",
        "    self.primero = None\n",
        "    \n",
        "  def insertar(self, receta):\n",
        "    if self.primero is None:\n",
        "      self.primero = nodo(receta=receta)\n",
        "      return\n",
        "    actual = self.primero\n",
        "    while actual.siguiente:\n",
        "      actual = actual.siguiente\n",
        "    actual.siguiente = nodo(receta=receta)\n",
        "  \n",
        "  def recorrer (self): \n",
        "    actual = self.primero\n",
        "    while actual != None: \n",
        "      print(\"Paciente:\", actual.receta.paciente, \n",
        "            \"| Fecha nacimiento:\", actual.receta.fecha_nac, \n",
        "            \"| Doctor:\", actual.receta.doctor, \n",
        "            \"| Colegiado:\", actual.receta.colegiado,\n",
        "            \"| Fecha cita:\", actual.receta.fecha_cita,\n",
        "            \"| Hora cita:\", actual.receta.hora_cita,\n",
        "            \"| Tipo de consulta:\", actual.receta.tipo_consulta,\n",
        "            \"| Tratamiento:\", actual.receta.tratamiento)\n",
        "      actual = actual.siguiente\n",
        "\n",
        "  def eliminar(self, colegiado, fecha_cita, hora_cita):\n",
        "    actual = self.primero \n",
        "    anterior = None\n",
        "    \n",
        "    while actual and actual.receta.colegiado != colegiado and actual.receta.fecha_cita != fecha_cita and actual.receta.hora_cita != hora_cita:\n",
        "      anterior = actual \n",
        "      actual = actual.siguiente\n",
        "    \n",
        "    if anterior is None:\n",
        "      self.primero = actual.siguiente\n",
        "      actual.siguiente = None \n",
        "    elif actual:\n",
        "      anterior.siguiente = actual.siguiente \n",
        "      actual.siguiente = None\n",
        "\n",
        "  def modificar(self, paciente, fecha_cita, hora_cita):\n",
        "    actual = self.primero \n",
        "    anterior = None\n",
        "    \n",
        "    while actual and actual.receta.paciente != paciente:\n",
        "      actual = actual.siguiente\n",
        "    \n",
        "    actual.receta.fecha_cita = fecha_cita\n",
        "    actual.receta.hora_cita = hora_cita\n"
      ],
      "metadata": {
        "id": "eTJBqIf3CPC-"
      },
      "execution_count": 28,
      "outputs": []
    },
    {
      "cell_type": "markdown",
      "source": [
        "**Creacion del objeto Receta**"
      ],
      "metadata": {
        "id": "V2OjwS6RFNtv"
      }
    },
    {
      "cell_type": "code",
      "source": [
        "r1 = receta (\"Gerson López\", \"03-10-1990\", \"Melvin Ortiz\", 20156, \"17-01-2023\", \"11:30\", \"Medicina General\", \"2 pildoras de acetaminofen cada 6 horas\") \n",
        "r2 = receta (\"Karen Gomez\", \"08-05-2000\", \"Jorge Marida\", 8567, \"31-01-2023\", \"09:00\", \"Medicina Interna\", \"Tylanol de 20 ml cada 4 horas\")\n",
        "r3 = receta (\"Luis Garcia\", \"17-09-1987\", \"Melvin Ortiz\", 20156, \"02-02-2023\", \"12:00\", \"Medicina General\", \"2 cucharadas de pepto-bismol cada hora\")"
      ],
      "metadata": {
        "id": "qsC2Kf79FOSF"
      },
      "execution_count": 29,
      "outputs": []
    },
    {
      "cell_type": "markdown",
      "source": [
        "**Inserción**"
      ],
      "metadata": {
        "id": "2b6Qmlu5HgyU"
      }
    },
    {
      "cell_type": "code",
      "source": [
        "lista_e = lista_enlazada()\n",
        "lista_e.insertar(r1)\n",
        "lista_e.insertar(r2)\n",
        "lista_e.insertar(r3)"
      ],
      "metadata": {
        "id": "2haEaWZDGeqR"
      },
      "execution_count": 30,
      "outputs": []
    },
    {
      "cell_type": "markdown",
      "source": [],
      "metadata": {
        "id": "4cArPVLcL2vM"
      }
    },
    {
      "cell_type": "markdown",
      "source": [
        "**Recorrer la lista**"
      ],
      "metadata": {
        "id": "qSn7CniJHsDG"
      }
    },
    {
      "cell_type": "code",
      "source": [
        "lista_e.recorrer()"
      ],
      "metadata": {
        "colab": {
          "base_uri": "https://localhost:8080/"
        },
        "id": "7ki4epAFGr84",
        "outputId": "8c16b148-6c65-4168-b992-f0d94f915969"
      },
      "execution_count": 31,
      "outputs": [
        {
          "output_type": "stream",
          "name": "stdout",
          "text": [
            "Paciente: Gerson López | Fecha nacimiento: 03-10-1990 | Doctor: Melvin Ortiz | Colegiado: 20156 | Fecha cita: 17-01-2023 | Hora cita: 11:30 | Tipo de consulta: Medicina General | Tratamiento: 2 pildoras de acetaminofen cada 6 horas\n",
            "Paciente: Karen Gomez | Fecha nacimiento: 08-05-2000 | Doctor: Jorge Marida | Colegiado: 8567 | Fecha cita: 31-01-2023 | Hora cita: 09:00 | Tipo de consulta: Medicina Interna | Tratamiento: Tylanol de 20 ml cada 4 horas\n",
            "Paciente: Luis Garcia | Fecha nacimiento: 17-09-1987 | Doctor: Melvin Ortiz | Colegiado: 20156 | Fecha cita: 02-02-2023 | Hora cita: 12:00 | Tipo de consulta: Medicina General | Tratamiento: 2 cucharadas de pepto-bismol cada hora\n"
          ]
        }
      ]
    },
    {
      "cell_type": "markdown",
      "source": [
        "**Eliminar**"
      ],
      "metadata": {
        "id": "XF5u_Xp8MMCB"
      }
    },
    {
      "cell_type": "code",
      "source": [
        "lista_e.eliminar(20156, \"17-01-2023\", \"11:30\")"
      ],
      "metadata": {
        "id": "VFVwGI1zR-Gp"
      },
      "execution_count": 32,
      "outputs": []
    },
    {
      "cell_type": "code",
      "source": [
        "lista_e.recorrer()"
      ],
      "metadata": {
        "colab": {
          "base_uri": "https://localhost:8080/"
        },
        "id": "346JXjsqThI_",
        "outputId": "787741ae-ea66-4d89-84b7-4a20e21086f2"
      },
      "execution_count": 33,
      "outputs": [
        {
          "output_type": "stream",
          "name": "stdout",
          "text": [
            "Paciente: Karen Gomez | Fecha nacimiento: 08-05-2000 | Doctor: Jorge Marida | Colegiado: 8567 | Fecha cita: 31-01-2023 | Hora cita: 09:00 | Tipo de consulta: Medicina Interna | Tratamiento: Tylanol de 20 ml cada 4 horas\n",
            "Paciente: Luis Garcia | Fecha nacimiento: 17-09-1987 | Doctor: Melvin Ortiz | Colegiado: 20156 | Fecha cita: 02-02-2023 | Hora cita: 12:00 | Tipo de consulta: Medicina General | Tratamiento: 2 cucharadas de pepto-bismol cada hora\n"
          ]
        }
      ]
    },
    {
      "cell_type": "code",
      "source": [
        "lista_e.modificar(\"Karen Gomez\",\"01-01-2023\", \"12:00\")"
      ],
      "metadata": {
        "id": "I5gdLz-Ucv71"
      },
      "execution_count": 34,
      "outputs": []
    },
    {
      "cell_type": "code",
      "source": [
        "lista_e.recorrer()"
      ],
      "metadata": {
        "colab": {
          "base_uri": "https://localhost:8080/"
        },
        "id": "ahYxCUhvzcSv",
        "outputId": "78d2f434-9bdf-43c7-ba5f-52beb3f3e71b"
      },
      "execution_count": 35,
      "outputs": [
        {
          "output_type": "stream",
          "name": "stdout",
          "text": [
            "Paciente: Karen Gomez | Fecha nacimiento: 08-05-2000 | Doctor: Jorge Marida | Colegiado: 8567 | Fecha cita: 01-01-2023 | Hora cita: 12:00 | Tipo de consulta: Medicina Interna | Tratamiento: Tylanol de 20 ml cada 4 horas\n",
            "Paciente: Luis Garcia | Fecha nacimiento: 17-09-1987 | Doctor: Melvin Ortiz | Colegiado: 20156 | Fecha cita: 02-02-2023 | Hora cita: 12:00 | Tipo de consulta: Medicina General | Tratamiento: 2 cucharadas de pepto-bismol cada hora\n"
          ]
        }
      ]
    }
  ]
}